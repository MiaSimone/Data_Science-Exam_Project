{
 "cells": [
  {
   "cell_type": "markdown",
   "id": "4f7eb3a1",
   "metadata": {},
   "source": [
    "# Deploy the model"
   ]
  },
  {
   "cell_type": "markdown",
   "id": "1d0a9828",
   "metadata": {},
   "source": [
    "#### Loading the Bayes Classification model"
   ]
  },
  {
   "cell_type": "code",
   "execution_count": 1,
   "id": "47a9aaf4",
   "metadata": {},
   "outputs": [],
   "source": [
    "import joblib\n",
    "bcmodel = joblib.load('GaussianNB_model.sav')"
   ]
  },
  {
   "cell_type": "code",
   "execution_count": 3,
   "id": "f9e9f9e9",
   "metadata": {
    "scrolled": true
   },
   "outputs": [
    {
     "data": {
      "text/plain": [
       "array([15], dtype=int64)"
      ]
     },
     "execution_count": 3,
     "metadata": {},
     "output_type": "execute_result"
    }
   ],
   "source": [
    "my_prediction = bcmodel.predict([[16000,  2014, 35786,   139,    30,   821]])\n",
    "my_prediction"
   ]
  },
  {
   "cell_type": "markdown",
   "id": "a52ceccb",
   "metadata": {},
   "source": [
    "#### Deploy the model via Flask"
   ]
  },
  {
   "cell_type": "code",
   "execution_count": 8,
   "id": "f671d4f4",
   "metadata": {},
   "outputs": [
    {
     "name": "stdout",
     "output_type": "stream",
     "text": [
      "Overwriting mswebapp.py\n"
     ]
    }
   ],
   "source": [
    "%%writefile mswebapp.py\n",
    "\n",
    "# Import libraries\n",
    "import numpy as np\n",
    "import pandas as pd\n",
    "\n",
    "# from sklearn.externals \n",
    "import joblib\n",
    "import pickle\n",
    "from flask import Flask, request, jsonify, render_template\n",
    "\n",
    "# create an instance (our app)\n",
    "#app = Flask(__name__)\n",
    "app = Flask(__name__, template_folder='html_documents')\n",
    "\n",
    "bcmodel = joblib.load('GaussianNB_model.sav')\n",
    "\n",
    "#def intToWord(n):\n",
    "    # Getting the data from a CSV file and splits the data for ervery ','\n",
    "#    df_carList_make_word = pd.read_csv(\"datasets/carList.csv\", delimiter=\",\")\n",
    "#    df_carList_make_word = df_carList_make_word['Make'].unique()\n",
    "#    words = pd.DataFrame(df_carList_make_word, columns=['Make'])\n",
    "    \n",
    "#    df_carList_make_int = df_carList['Make'].unique()\n",
    "#    integers = pd.DataFrame(df_carList_make_int, columns=['Make_int'])\n",
    "    \n",
    "#    df_stack = pd.concat([words, integers], axis=1)\n",
    "#    df_stack.columns = ['Make', 'Make_int']\n",
    "    \n",
    "#    val = df_stack.query('Make_int  == '+str(n))['Make']\n",
    "    \n",
    "#    return val\n",
    "\n",
    "\n",
    "@app.route('/', methods=['GET', 'POST'])\n",
    "\n",
    "@app.route('/hi/<name>')\n",
    "def hello(name = None):\n",
    "    return render_template('start.html', name=name)\n",
    "# name is parameter in the template: {{name}}\n",
    "\n",
    "@app.route('/predict')\n",
    "def predict():\n",
    "    return render_template('prediction.html')\n",
    "\n",
    "@app.route('/predicted', methods=['GET', 'POST'])\n",
    "def predicted():\n",
    "    if request.method == 'POST':\n",
    "        x1 = request.form['x1']\n",
    "        x2 = request.form['x2']\n",
    "        x3 = request.form['x3']\n",
    "        x4 = request.form['x4']\n",
    "        x5 = request.form['x5']\n",
    "        x6 = request.form['x6']\n",
    "        X = [[x1, x2, x3, x4, x5, x6]]\n",
    "        predicted = bcmodel.predict(X)\n",
    "        #predictedWord = intToWord(predicted)\n",
    "          \n",
    "        #return render_template(\"predicted.html\", content=X, prediction=[predicted, predictedWord])\n",
    "        return render_template(\"predicted.html\", content=X, prediction=predicted)\n",
    "    \n",
    "@app.route('/bye')\n",
    "def bye():\n",
    "    return render_template('bye.html')\n",
    "\n",
    "if __name__ == '__main__':\n",
    "    app.run(debug=True)"
   ]
  },
  {
   "cell_type": "code",
   "execution_count": 9,
   "id": "dd38ca10",
   "metadata": {},
   "outputs": [
    {
     "name": "stdout",
     "output_type": "stream",
     "text": [
      "^C\n"
     ]
    }
   ],
   "source": [
    "!python mswebapp.py"
   ]
  }
 ],
 "metadata": {
  "kernelspec": {
   "display_name": "Python 3 (ipykernel)",
   "language": "python",
   "name": "python3"
  },
  "language_info": {
   "codemirror_mode": {
    "name": "ipython",
    "version": 3
   },
   "file_extension": ".py",
   "mimetype": "text/x-python",
   "name": "python",
   "nbconvert_exporter": "python",
   "pygments_lexer": "ipython3",
   "version": "3.9.7"
  }
 },
 "nbformat": 4,
 "nbformat_minor": 5
}
