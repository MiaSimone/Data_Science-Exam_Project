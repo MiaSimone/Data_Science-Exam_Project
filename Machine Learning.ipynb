{
 "cells": [
  {
   "cell_type": "markdown",
   "id": "5a43ca6e",
   "metadata": {},
   "source": [
    "# Machine Learning"
   ]
  },
  {
   "cell_type": "code",
   "execution_count": 2,
   "id": "cc0d4215",
   "metadata": {},
   "outputs": [],
   "source": [
    "#Imports \n",
    "import pandas as pd\n",
    "import numpy as np\n",
    "import matplotlib.pyplot as plt\n",
    "from sklearn import model_selection\n",
    "import sklearn.metrics as sm\n",
    "from sklearn import metrics\n",
    "from sklearn.metrics import confusion_matrix\n",
    "from sklearn.metrics import classification_report\n",
    "import pickle\n",
    "from sklearn.model_selection import train_test_split\n",
    "\n",
    "# for regression\n",
    "from sklearn.linear_model import LinearRegression\n",
    "from sklearn.preprocessing import PolynomialFeatures\n",
    "from sklearn.neighbors import KNeighborsRegressor\n",
    "\n",
    "# for classification\n",
    "from sklearn.preprocessing import StandardScaler\n",
    "from sklearn.neighbors import KNeighborsClassifier\n",
    "from sklearn.naive_bayes import GaussianNB\n",
    "\n",
    "# for nural network\n",
    "from sklearn.preprocessing import StandardScaler\n",
    "from sklearn.preprocessing import OneHotEncoder\n",
    "import keras\n",
    "from keras.models import Sequential\n",
    "from keras.layers import Dense, Dropout\n",
    "from sklearn.metrics import accuracy_score"
   ]
  },
  {
   "cell_type": "markdown",
   "id": "2c6b37d8",
   "metadata": {},
   "source": [
    "### Table of Contents\n",
    "\n",
    "* [Preparing the data](#prep)\n",
    "* [Regression](#regression)\n",
    "    * [Linear Regression](#lin_reg)\n",
    "    * [Polynomial Regression](#pol_reg)\n",
    "    * [KNN Regression](#knn_reg)\n",
    "    * [Regression Conclusion](#reg_con)\n",
    "* [Classification](#classification)\n",
    "    * [KNN Classification](#knn_class)\n",
    "    * [Bayes Classification](#bc_class)\n",
    "* [Neural Network](#NN)\n",
    "    * [Building the Enviroment](#BE)\n",
    "    * [Building our Neural Network](#BNN)\n",
    "    * [Training the model](#training_NN)\n"
   ]
  },
  {
   "cell_type": "markdown",
   "id": "c431e2ba",
   "metadata": {},
   "source": [
    "### Preparing the data <a class=\"anchor\" id=\"prep\"></a>"
   ]
  },
  {
   "cell_type": "code",
   "execution_count": 3,
   "id": "6f8b62dd",
   "metadata": {},
   "outputs": [],
   "source": [
    "# Getting the data from a CSV file and splits the data for ervery ','\n",
    "df_carList = pd.read_csv(\"datasets/carList.csv\", delimiter=\",\")"
   ]
  },
  {
   "cell_type": "code",
   "execution_count": 4,
   "id": "3324e9a3",
   "metadata": {},
   "outputs": [],
   "source": [
    "# When we saved the carList the ID column was saved as well, so we remove this first\n",
    "df_carList = df_carList.drop(['Unnamed: 0'], axis = 1)"
   ]
  },
  {
   "cell_type": "code",
   "execution_count": 5,
   "id": "5f586251",
   "metadata": {
    "scrolled": true
   },
   "outputs": [
    {
     "data": {
      "text/html": [
       "<div>\n",
       "<style scoped>\n",
       "    .dataframe tbody tr th:only-of-type {\n",
       "        vertical-align: middle;\n",
       "    }\n",
       "\n",
       "    .dataframe tbody tr th {\n",
       "        vertical-align: top;\n",
       "    }\n",
       "\n",
       "    .dataframe thead th {\n",
       "        text-align: right;\n",
       "    }\n",
       "</style>\n",
       "<table border=\"1\" class=\"dataframe\">\n",
       "  <thead>\n",
       "    <tr style=\"text-align: right;\">\n",
       "      <th></th>\n",
       "      <th>Price</th>\n",
       "      <th>Year</th>\n",
       "      <th>Mileage</th>\n",
       "      <th>City</th>\n",
       "      <th>State</th>\n",
       "      <th>Make</th>\n",
       "      <th>Model</th>\n",
       "    </tr>\n",
       "  </thead>\n",
       "  <tbody>\n",
       "    <tr>\n",
       "      <th>0</th>\n",
       "      <td>8995</td>\n",
       "      <td>2014</td>\n",
       "      <td>35725</td>\n",
       "      <td>EL PASO</td>\n",
       "      <td>TX</td>\n",
       "      <td>ACURA</td>\n",
       "      <td>ILX6-SPEED</td>\n",
       "    </tr>\n",
       "  </tbody>\n",
       "</table>\n",
       "</div>"
      ],
      "text/plain": [
       "   Price  Year  Mileage     City State   Make       Model\n",
       "0   8995  2014    35725  EL PASO    TX  ACURA  ILX6-SPEED"
      ]
     },
     "execution_count": 5,
     "metadata": {},
     "output_type": "execute_result"
    }
   ],
   "source": [
    "df_carList.head(1)"
   ]
  },
  {
   "cell_type": "markdown",
   "id": "efcc9d6a",
   "metadata": {},
   "source": [
    "We will also use clasifications such as naive base, Logistic Regression, KNN and random forrest clasifer. The reason why we have choosen so many is because to see which one is the best for the data. <br>\n",
    "\n",
    "In the dataset df_carList we know that there are some expentive cars and we want to remove them to get at better Linear Regression, than we expect. So now the price is from 0 - 250000$"
   ]
  },
  {
   "cell_type": "code",
   "execution_count": 6,
   "id": "b814b751",
   "metadata": {},
   "outputs": [],
   "source": [
    "# Because of some outliers we drop prices over 250000 dollars\n",
    "df_carList = df_carList.drop(df_carList[df_carList.Price > 250000].index)"
   ]
  },
  {
   "cell_type": "code",
   "execution_count": 7,
   "id": "f60b1f17",
   "metadata": {},
   "outputs": [],
   "source": [
    "# Now we are integer encoding to make it easier to work with\n",
    "df_carList['City'] = pd.factorize(df_carList['City'])[0]\n",
    "df_carList['State'] = pd.factorize(df_carList['State'])[0]\n",
    "df_carList['Make'] = pd.factorize(df_carList['Make'])[0]\n",
    "df_carList['Model'] = pd.factorize(df_carList['Model'])[0]"
   ]
  },
  {
   "cell_type": "code",
   "execution_count": 8,
   "id": "91233c9c",
   "metadata": {},
   "outputs": [],
   "source": [
    "# Takes the column Make\n",
    "x = df_carList.iloc[:,5:6]"
   ]
  },
  {
   "cell_type": "code",
   "execution_count": 9,
   "id": "561e03cc",
   "metadata": {},
   "outputs": [],
   "source": [
    "# Takes the column Price\n",
    "y = df_carList.iloc[:,0:1]"
   ]
  },
  {
   "cell_type": "code",
   "execution_count": 15,
   "id": "22277ee3",
   "metadata": {},
   "outputs": [
    {
     "data": {
      "image/png": "[encoded data removed]",
      "text/plain": [
       "<Figure size 432x288 with 1 Axes>"
      ]
     },
     "metadata": {
      "needs_background": "light"
     },
     "output_type": "display_data"
    },
    {
     "data": {
      "text/plain": [
       "<Figure size 7200x288 with 0 Axes>"
      ]
     },
     "metadata": {},
     "output_type": "display_data"
    }
   ],
   "source": [
    "# Plot all\n",
    "plt.xlabel('Make')\n",
    "plt.ylabel('Price')\n",
    "plt.scatter(x, y, color='green')\n",
    "plt.show()"
   ]
  },
  {
   "cell_type": "markdown",
   "id": "4ee92274",
   "metadata": {},
   "source": [
    "After we have created a dataplot we can see there are no mathematical context as linear or logarithmic regression.\n",
    "<br>\n",
    "Now we will try to see if any regression model fits:"
   ]
  },
  {
   "cell_type": "markdown",
   "id": "03037912",
   "metadata": {},
   "source": [
    "### Regression <a class=\"anchor\" id=\"regression\"></a>"
   ]
  },
  {
   "cell_type": "markdown",
   "id": "9d736361",
   "metadata": {},
   "source": [
    "#### Linear Regression <a class=\"anchor\" id=\"lin_reg\"></a>\n",
    "We will predict the Make by the other factors"
   ]
  },
  {
   "cell_type": "code",
   "execution_count": 10,
   "id": "6f5081d1",
   "metadata": {},
   "outputs": [],
   "source": [
    "# Takes all columns but Make\n",
    "X = df_carList.iloc[:, [True, True, True, True, True, False, True]]\n",
    "# Takes the column Make\n",
    "y = df_carList.iloc[:,5:6]"
   ]
  },
  {
   "cell_type": "code",
   "execution_count": 11,
   "id": "dc2f8c8b",
   "metadata": {},
   "outputs": [],
   "source": [
    "# We takes 20 procent of the data for test set which is randomly selected\n",
    "test_set_size = 0.2\n",
    "seed = 7 # randomiztion\n",
    "\n",
    "X_train, X_test, y_train, y_test = model_selection.train_test_split(X, y, test_size=test_set_size, random_state=seed)"
   ]
  },
  {
   "cell_type": "code",
   "execution_count": 12,
   "id": "58c3064a",
   "metadata": {},
   "outputs": [
    {
     "data": {
      "text/plain": [
       "LinearRegression()"
      ]
     },
     "execution_count": 12,
     "metadata": {},
     "output_type": "execute_result"
    }
   ],
   "source": [
    "# Create linear regressor object\n",
    "regressor = LinearRegression()\n",
    "\n",
    "# Train the model using the training sets\n",
    "regressor.fit(X_train, y_train)"
   ]
  },
  {
   "cell_type": "code",
   "execution_count": 13,
   "id": "efa531f9",
   "metadata": {
    "scrolled": true
   },
   "outputs": [
    {
     "data": {
      "text/html": [
       "<div>\n",
       "<style scoped>\n",
       "    .dataframe tbody tr th:only-of-type {\n",
       "        vertical-align: middle;\n",
       "    }\n",
       "\n",
       "    .dataframe tbody tr th {\n",
       "        vertical-align: top;\n",
       "    }\n",
       "\n",
       "    .dataframe thead th {\n",
       "        text-align: right;\n",
       "    }\n",
       "</style>\n",
       "<table border=\"1\" class=\"dataframe\">\n",
       "  <thead>\n",
       "    <tr style=\"text-align: right;\">\n",
       "      <th></th>\n",
       "      <th>Price</th>\n",
       "      <th>Year</th>\n",
       "      <th>Mileage</th>\n",
       "      <th>City</th>\n",
       "      <th>State</th>\n",
       "      <th>Model</th>\n",
       "    </tr>\n",
       "  </thead>\n",
       "  <tbody>\n",
       "    <tr>\n",
       "      <th>262222</th>\n",
       "      <td>16000</td>\n",
       "      <td>2014</td>\n",
       "      <td>35786</td>\n",
       "      <td>139</td>\n",
       "      <td>30</td>\n",
       "      <td>821</td>\n",
       "    </tr>\n",
       "  </tbody>\n",
       "</table>\n",
       "</div>"
      ],
      "text/plain": [
       "        Price  Year  Mileage  City  State  Model\n",
       "262222  16000  2014    35786   139     30    821"
      ]
     },
     "execution_count": 13,
     "metadata": {},
     "output_type": "execute_result"
    }
   ],
   "source": [
    "X_test.head(1)"
   ]
  },
  {
   "cell_type": "code",
   "execution_count": 14,
   "id": "13ee56b3",
   "metadata": {},
   "outputs": [
    {
     "data": {
      "text/html": [
       "<div>\n",
       "<style scoped>\n",
       "    .dataframe tbody tr th:only-of-type {\n",
       "        vertical-align: middle;\n",
       "    }\n",
       "\n",
       "    .dataframe tbody tr th {\n",
       "        vertical-align: top;\n",
       "    }\n",
       "\n",
       "    .dataframe thead th {\n",
       "        text-align: right;\n",
       "    }\n",
       "</style>\n",
       "<table border=\"1\" class=\"dataframe\">\n",
       "  <thead>\n",
       "    <tr style=\"text-align: right;\">\n",
       "      <th></th>\n",
       "      <th>Make</th>\n",
       "    </tr>\n",
       "  </thead>\n",
       "  <tbody>\n",
       "    <tr>\n",
       "      <th>262222</th>\n",
       "      <td>15</td>\n",
       "    </tr>\n",
       "  </tbody>\n",
       "</table>\n",
       "</div>"
      ],
      "text/plain": [
       "        Make\n",
       "262222    15"
      ]
     },
     "execution_count": 14,
     "metadata": {},
     "output_type": "execute_result"
    }
   ],
   "source": [
    "y_test.head(1)"
   ]
  },
  {
   "cell_type": "code",
   "execution_count": 15,
   "id": "0475bc2a",
   "metadata": {},
   "outputs": [
    {
     "data": {
      "text/plain": [
       "15    FORD\n",
       "Name: Make, dtype: object"
      ]
     },
     "execution_count": 15,
     "metadata": {},
     "output_type": "execute_result"
    }
   ],
   "source": [
    "def intToWord(n):\n",
    "    # Getting the data from a CSV file and splits the data for ervery ','\n",
    "    df_carList_make_word = pd.read_csv(\"datasets/carList.csv\", delimiter=\",\")\n",
    "    df_carList_make_word = df_carList_make_word['Make'].unique()\n",
    "    words = pd.DataFrame(df_carList_make_word, columns=['Make'])\n",
    "    \n",
    "    df_carList_make_int = df_carList['Make'].unique()\n",
    "    integers = pd.DataFrame(df_carList_make_int, columns=['Make_int'])\n",
    "    \n",
    "    df_stack = pd.concat([words, integers], axis=1)\n",
    "    df_stack.columns = ['Make', 'Make_int']\n",
    "    \n",
    "    val = df_stack.query('Make_int  == '+str(n))['Make']\n",
    "    \n",
    "    return val\n",
    "\n",
    "\n",
    "intToWord(15)"
   ]
  },
  {
   "cell_type": "code",
   "execution_count": 16,
   "id": "90c3413c",
   "metadata": {},
   "outputs": [
    {
     "data": {
      "text/plain": [
       "array([[16.89388445]])"
      ]
     },
     "execution_count": 16,
     "metadata": {},
     "output_type": "execute_result"
    }
   ],
   "source": [
    "# Predict the first line in X_test\n",
    "X_first = [[16000, 2014, 35786, 139, 30, 821]]\n",
    "y_predicted = regressor.predict(X_first)\n",
    "y_predicted"
   ]
  },
  {
   "cell_type": "markdown",
   "id": "d86e9aa5",
   "metadata": {},
   "source": [
    "We expected the result 15, meaning Ford, but we got 16.89. So this model might not be perfect for our data."
   ]
  },
  {
   "cell_type": "code",
   "execution_count": 17,
   "id": "238538ae",
   "metadata": {},
   "outputs": [
    {
     "data": {
      "text/plain": [
       "array([[16.89388445],\n",
       "       [27.33028686],\n",
       "       [16.37005697],\n",
       "       ...,\n",
       "       [36.59094883],\n",
       "       [53.01989353],\n",
       "       [23.44364031]])"
      ]
     },
     "execution_count": 17,
     "metadata": {},
     "output_type": "execute_result"
    }
   ],
   "source": [
    "# Now we do the same put with the intere X_test to use for the score\n",
    "y_predicted = regressor.predict(X_test)\n",
    "y_predicted"
   ]
  },
  {
   "cell_type": "code",
   "execution_count": 18,
   "id": "dd72d343",
   "metadata": {},
   "outputs": [
    {
     "data": {
      "text/plain": [
       "0.9682044152357181"
      ]
     },
     "execution_count": 18,
     "metadata": {},
     "output_type": "execute_result"
    }
   ],
   "source": [
    "regressor.score(X_test, y_test)"
   ]
  },
  {
   "cell_type": "markdown",
   "id": "1293b73e",
   "metadata": {},
   "source": [
    "The Linear Regression score is suprisingly good: 0,968. "
   ]
  },
  {
   "cell_type": "code",
   "execution_count": 19,
   "id": "0d454781",
   "metadata": {
    "scrolled": false
   },
   "outputs": [
    {
     "name": "stdout",
     "output_type": "stream",
     "text": [
      "Linear regressor performance:\n",
      "Mean absolute error = 1.96\n",
      "Mean squared error (RMSE) = 8.67\n",
      "Median absolute error = 1.74\n",
      "Explain variance score = 0.97\n",
      "R2 score = 0.97\n"
     ]
    }
   ],
   "source": [
    "# Compute performance metrics\n",
    "print(\"Linear regressor performance:\")\n",
    "print(\"Mean absolute error =\", round(sm.mean_absolute_error(y_test, y_predicted), 2))\n",
    "print(\"Mean squared error (RMSE) =\", round(sm.mean_squared_error(y_test, y_predicted), 2)) \n",
    "print(\"Median absolute error =\", round(sm.median_absolute_error(y_test, y_predicted), 2)) \n",
    "print(\"Explain variance score =\", round(sm.explained_variance_score(y_test, y_predicted), 2))\n",
    "print(\"R2 score =\", round(sm.r2_score(y_test, y_predicted), 2))"
   ]
  },
  {
   "cell_type": "markdown",
   "id": "15753eee",
   "metadata": {},
   "source": [
    "The results look good, but we will compare them with the other models later."
   ]
  },
  {
   "cell_type": "markdown",
   "id": "db082d82",
   "metadata": {},
   "source": [
    "#### Polynomial Regression <a class=\"anchor\" id=\"pol_reg\"></a>"
   ]
  },
  {
   "cell_type": "code",
   "execution_count": 20,
   "id": "73fbc150",
   "metadata": {},
   "outputs": [],
   "source": [
    "# polynomial regression model\n",
    "polyreg = PolynomialFeatures(degree=4)\n",
    "\n",
    "# transform our train data to adjust the polynom to linear regression model\n",
    "X_pol = polyreg.fit_transform(X_train)"
   ]
  },
  {
   "cell_type": "code",
   "execution_count": 21,
   "id": "39587d0d",
   "metadata": {},
   "outputs": [
    {
     "data": {
      "text/plain": [
       "LinearRegression()"
      ]
     },
     "execution_count": 21,
     "metadata": {},
     "output_type": "execute_result"
    }
   ],
   "source": [
    "# create linear regression model\n",
    "pollinreg = LinearRegression()\n",
    "pollinreg.fit(X_pol, y_train)"
   ]
  },
  {
   "cell_type": "code",
   "execution_count": 22,
   "id": "1d8b5265",
   "metadata": {},
   "outputs": [
    {
     "data": {
      "text/plain": [
       "array([[15.9000342 ],\n",
       "       [24.91495889],\n",
       "       [15.24148284],\n",
       "       ...,\n",
       "       [35.24491683],\n",
       "       [54.699521  ],\n",
       "       [21.33367263]])"
      ]
     },
     "execution_count": 22,
     "metadata": {},
     "output_type": "execute_result"
    }
   ],
   "source": [
    "# apply the model on our test data\n",
    "X_pol_test = polyreg.fit_transform(X_test)\n",
    "y_predicted = pollinreg.predict(X_pol_test)\n",
    "y_predicted"
   ]
  },
  {
   "cell_type": "code",
   "execution_count": 23,
   "id": "ca63ed53",
   "metadata": {
    "scrolled": true
   },
   "outputs": [
    {
     "name": "stdout",
     "output_type": "stream",
     "text": [
      "Polynominal regressor performance:\n",
      "Mean absolute error = 1.25\n",
      "Mean squared error (RMSE) = 5.95\n",
      "Median absolute error = 0.93\n",
      "Explain variance score = 0.98\n",
      "R2 score = 0.98\n"
     ]
    }
   ],
   "source": [
    "# Compute performance metrics\n",
    "print(\"Polynominal regressor performance:\")\n",
    "print(\"Mean absolute error =\", round(sm.mean_absolute_error(y_test, y_predicted), 2))\n",
    "print(\"Mean squared error (RMSE) =\", round(sm.mean_squared_error(y_test, y_predicted), 2)) \n",
    "print(\"Median absolute error =\", round(sm.median_absolute_error(y_test, y_predicted), 2)) \n",
    "print(\"Explain variance score =\", round(sm.explained_variance_score(y_test, y_predicted), 2))\n",
    "print(\"R2 score =\", round(sm.r2_score(y_test, y_predicted), 2))\n",
    "pol_r2 = round(sm.r2_score(y_test, y_predicted), 2)"
   ]
  },
  {
   "cell_type": "markdown",
   "id": "8abf0fb7",
   "metadata": {},
   "source": [
    "The results look better than Linear Regression, but we will compare these results with the other models later."
   ]
  },
  {
   "cell_type": "markdown",
   "id": "fa27e383",
   "metadata": {},
   "source": [
    "#### Non-Linear Regression by KNN <a class=\"anchor\" id=\"knn_reg\"></a>\n",
    "Considering our data does not look linear, we will also try with Regression by KNN"
   ]
  },
  {
   "cell_type": "code",
   "execution_count": 24,
   "id": "6521a23e",
   "metadata": {},
   "outputs": [
    {
     "data": {
      "text/plain": [
       "KNeighborsRegressor()"
      ]
     },
     "execution_count": 24,
     "metadata": {},
     "output_type": "execute_result"
    }
   ],
   "source": [
    "# create an instance of the KNN regression modeel for our experiment\n",
    "knn_model = KNeighborsRegressor(n_neighbors=5)\n",
    "\n",
    "# fit the model to our train data\n",
    "knn_model.fit(X_train, y_train)"
   ]
  },
  {
   "cell_type": "code",
   "execution_count": 25,
   "id": "0501df0f",
   "metadata": {},
   "outputs": [
    {
     "data": {
      "text/plain": [
       "array([[15.]])"
      ]
     },
     "execution_count": 25,
     "metadata": {},
     "output_type": "execute_result"
    }
   ],
   "source": [
    "# Predict the first line in X_test\n",
    "X_first = [[16000, 2014, 35786, 139, 30, 821]]\n",
    "y_predicted = knn_model.predict(X_first)\n",
    "y_predicted"
   ]
  },
  {
   "cell_type": "markdown",
   "id": "01c3e802",
   "metadata": {},
   "source": [
    "We expected 15 and this is what it returned, so this might be a good model."
   ]
  },
  {
   "cell_type": "code",
   "execution_count": 26,
   "id": "3583546e",
   "metadata": {},
   "outputs": [],
   "source": [
    "# Now we do the same put with the intere X_test to use for the score\n",
    "y_predicted = knn_model.predict(X_test)"
   ]
  },
  {
   "cell_type": "code",
   "execution_count": 27,
   "id": "8ba82d69",
   "metadata": {
    "scrolled": true
   },
   "outputs": [
    {
     "name": "stdout",
     "output_type": "stream",
     "text": [
      "KNN regressor performance:\n",
      "Mean absolute error = 2.13\n",
      "Mean squared error (RMSE) = 12.43\n",
      "Median absolute error = 1.4\n",
      "Explain variance score = 0.95\n",
      "R2 score = 0.95\n"
     ]
    }
   ],
   "source": [
    "# Compute performance metrics\n",
    "print(\"KNN regressor performance:\")\n",
    "print(\"Mean absolute error =\", round(sm.mean_absolute_error(y_test, y_predicted), 2))\n",
    "print(\"Mean squared error (RMSE) =\", round(sm.mean_squared_error(y_test, y_predicted), 2)) \n",
    "print(\"Median absolute error =\", round(sm.median_absolute_error(y_test, y_predicted), 2)) \n",
    "print(\"Explain variance score =\", round(sm.explained_variance_score(y_test, y_predicted), 2))\n",
    "print(\"R2 score =\", round(sm.r2_score(y_test, y_predicted), 2))\n",
    "knn_r2 = round(sm.r2_score(y_test, y_predicted), 2)"
   ]
  },
  {
   "cell_type": "markdown",
   "id": "6fd92e56",
   "metadata": {},
   "source": [
    "These results are not as good as the other models."
   ]
  },
  {
   "cell_type": "markdown",
   "id": "917a36ce",
   "metadata": {},
   "source": [
    "#### Regression conclusion <a class=\"anchor\" id=\"reg_con\"></a>"
   ]
  },
  {
   "cell_type": "markdown",
   "id": "4de87218",
   "metadata": {},
   "source": [
    "<b>R2:</b> \n",
    "<br>The Linear Regression shows us that 97% of the variability observed in the target variable is explained by the regression model. The KNN Regression shows us that only 95 % is explained by this model, and the Polynomial shows 98 %. Therfore, based on the R2 percentage, the Polynomial regression fits our data best. \n",
    "\n",
    "<b>Mean absolute error:</b> \n",
    "<br>\n",
    "The mean of absolute error in the Linear Regression model is 1.96, for the Polynomial it is 1.25 and for the KNN Regression it is 2.13. Again the Polynomial has the best fit.\n",
    "<br>\n",
    "\n",
    "<b>Mean squared error (RMSE):</b> \n",
    "<br>\n",
    "The mean of squared error in the Linear Regression model is 8.67, for the Polynomial it is 5.95 and for the KNN Regression it is 12.43. Again the Polynomial has the best fit.\n",
    "\n",
    "<br>\n",
    "\n",
    "##### Conclusion:\n",
    "The best regression model for our data is the Polynomial.\n",
    "<br><br>\n",
    "We will save the Polynomial model, because it is the best of the regression models."
   ]
  },
  {
   "cell_type": "code",
   "execution_count": 28,
   "id": "72b87357",
   "metadata": {},
   "outputs": [],
   "source": [
    "filename = 'Polynomial_Regression_Model.sav'\n",
    "pickle.dump(pollinreg, open(filename, 'wb'))"
   ]
  },
  {
   "cell_type": "code",
   "execution_count": 29,
   "id": "6f27864a",
   "metadata": {},
   "outputs": [
    {
     "data": {
      "text/plain": [
       "array([[15.9000342 ],\n",
       "       [24.91495889],\n",
       "       [15.24148284],\n",
       "       ...,\n",
       "       [35.24491683],\n",
       "       [54.699521  ],\n",
       "       [21.33367263]])"
      ]
     },
     "execution_count": 29,
     "metadata": {},
     "output_type": "execute_result"
    }
   ],
   "source": [
    "# Testing if the model is saved correctly\n",
    "loaded_model = pickle.load(open(filename, 'rb'))\n",
    "y_predicted = loaded_model.predict(X_pol_test)\n",
    "y_predicted"
   ]
  },
  {
   "cell_type": "code",
   "execution_count": 30,
   "id": "23d86107",
   "metadata": {},
   "outputs": [
    {
     "data": {
      "text/plain": [
       "array([[15.9000342 ],\n",
       "       [24.91495889],\n",
       "       [15.24148284],\n",
       "       ...,\n",
       "       [35.24491683],\n",
       "       [54.699521  ],\n",
       "       [21.33367263]])"
      ]
     },
     "execution_count": 30,
     "metadata": {},
     "output_type": "execute_result"
    }
   ],
   "source": [
    "pollinreg.predict(X_pol_test)\n",
    "# The model matches "
   ]
  },
  {
   "cell_type": "markdown",
   "id": "3776a35b",
   "metadata": {},
   "source": [
    "### Classification <a class=\"anchor\" id=\"classification\"></a>"
   ]
  },
  {
   "cell_type": "markdown",
   "id": "59aa4f7e",
   "metadata": {},
   "source": [
    "#### KNeighbors Classifier <a class=\"anchor\" id=\"knn_class\"></a>"
   ]
  },
  {
   "cell_type": "code",
   "execution_count": 31,
   "id": "e2116b1a",
   "metadata": {},
   "outputs": [],
   "source": [
    "# Standardize features by removing the mean and scaling to unit variance.\n",
    "sc = StandardScaler()\n",
    "X_train = sc.fit_transform(X_train)\n",
    "X_test = sc.transform(X_test)"
   ]
  },
  {
   "cell_type": "markdown",
   "id": "27e57382",
   "metadata": {},
   "source": [
    "We will find the best number of neighbors:"
   ]
  },
  {
   "cell_type": "code",
   "execution_count": 32,
   "id": "ee2f02a4",
   "metadata": {},
   "outputs": [],
   "source": [
    "#accuracy = []\n",
    "# Will take some time\n",
    "#for i in range(1,40):\n",
    "#    print(i)\n",
    "#    knn = KNeighborsClassifier(n_neighbors=i)\n",
    "#    knn.fit(X_train,y_train)\n",
    "#    pred_i = knn.predict(X_test)\n",
    "#    accuracy.append(metrics.accuracy_score(y_test, pred_i))\n",
    "#    print('done')"
   ]
  },
  {
   "cell_type": "code",
   "execution_count": 33,
   "id": "bb1e4968",
   "metadata": {},
   "outputs": [],
   "source": [
    "# This is the result from the loop above, but because of how long it took\n",
    "# we instantiate it manually:\n",
    "accuracy = [0.7930641876624939,\n",
    " 0.7608030940601322,\n",
    " 0.7810682489098603,\n",
    " 0.7820366099148429,\n",
    " 0.7874594315427458,\n",
    " 0.7829873643560986,\n",
    " 0.7846893321830378,\n",
    " 0.7822361509704151,\n",
    " 0.7812443145471298,\n",
    " 0.779248903991408,\n",
    " 0.7776701821105575,\n",
    " 0.7759153945924374,\n",
    " 0.7740608365465312,\n",
    " 0.7727168688487068,\n",
    " 0.7722590981918059,\n",
    " 0.7701110974171171,\n",
    " 0.7687319165918388,\n",
    " 0.766331555070397,\n",
    " 0.765433620320322,\n",
    " 0.763913586985228,\n",
    " 0.762833717743308,\n",
    " 0.7611376187709444,\n",
    " 0.7598347330551496,\n",
    " 0.7577747650990956,\n",
    " 0.7567829286758103,\n",
    " 0.7556326331789824,\n",
    " 0.7543649605906415,\n",
    " 0.7525690910904919,\n",
    " 0.7519117793780188,\n",
    " 0.7508495166998257,\n",
    " 0.7495407621294552,\n",
    " 0.7482144009953577,\n",
    " 0.7471580071717403,\n",
    " 0.7458609903105211,\n",
    " 0.7449102358692654,\n",
    " 0.7437247272449836,\n",
    " 0.7428561367677871,\n",
    " 0.7415943330340218,\n",
    " 0.7407668245388548]"
   ]
  },
  {
   "cell_type": "code",
   "execution_count": 34,
   "id": "7213e896",
   "metadata": {
    "scrolled": true
   },
   "outputs": [
    {
     "data": {
      "text/plain": [
       "Text(0, 0.5, 'Accurancy Score')"
      ]
     },
     "execution_count": 34,
     "metadata": {},
     "output_type": "execute_result"
    },
    {
     "data": {
      "image/png": "[encoded data removed]",
      "text/plain": [
       "<Figure size 720x432 with 1 Axes>"
      ]
     },
     "metadata": {
      "needs_background": "light"
     },
     "output_type": "display_data"
    }
   ],
   "source": [
    "plt.figure(figsize=(10,6))\n",
    "plt.plot(range(1,40),accuracy,color='blue', linestyle='dashed', marker='o',\n",
    " markerfacecolor='red', markersize=10)\n",
    "plt.title('Accurancy Score vs. K Value')\n",
    "plt.xlabel('K')\n",
    "plt.ylabel('Accurancy Score')"
   ]
  },
  {
   "cell_type": "markdown",
   "id": "080616e5",
   "metadata": {},
   "source": [
    "We can see that the k with the highest accuracy score is 1."
   ]
  },
  {
   "cell_type": "code",
   "execution_count": 35,
   "id": "f34daf85",
   "metadata": {},
   "outputs": [
    {
     "data": {
      "text/plain": [
       "KNeighborsClassifier(n_neighbors=1)"
      ]
     },
     "execution_count": 35,
     "metadata": {},
     "output_type": "execute_result"
    }
   ],
   "source": [
    "# We instancere the KNC to fit the model \n",
    "KN_model= KNeighborsClassifier(n_neighbors=1)\n",
    "y_train = np.ravel(y_train)\n",
    "KN_model.fit(X_train, y_train)"
   ]
  },
  {
   "cell_type": "code",
   "execution_count": 36,
   "id": "1c347005",
   "metadata": {},
   "outputs": [
    {
     "data": {
      "text/plain": [
       "0.7930641876624939"
      ]
     },
     "execution_count": 36,
     "metadata": {},
     "output_type": "execute_result"
    }
   ],
   "source": [
    "KN_model.score(X_test, y_test)"
   ]
  },
  {
   "cell_type": "markdown",
   "id": "0acd9188",
   "metadata": {},
   "source": [
    "The accuracy score is not perfect, so another classifier might be better for this data."
   ]
  },
  {
   "cell_type": "code",
   "execution_count": 37,
   "id": "30bf7fcf",
   "metadata": {},
   "outputs": [
    {
     "data": {
      "text/plain": [
       "array([15], dtype=int64)"
      ]
     },
     "execution_count": 37,
     "metadata": {},
     "output_type": "execute_result"
    }
   ],
   "source": [
    "X_first = [[-0.41980089,  0.20764132, -0.39776847, -0.85553888,  1.16497857, -0.54277113]]\n",
    "prediction = KN_model.predict(X_first)\n",
    "prediction"
   ]
  },
  {
   "cell_type": "markdown",
   "id": "2c2151c0",
   "metadata": {},
   "source": [
    "X_first is again the first point in X_test. The first point in y_test is 15 which is what we get from this classifier. "
   ]
  },
  {
   "cell_type": "code",
   "execution_count": 38,
   "id": "9d4c452e",
   "metadata": {},
   "outputs": [],
   "source": [
    "prediction = KN_model.predict(X_test)"
   ]
  },
  {
   "cell_type": "code",
   "execution_count": 39,
   "id": "8248d966",
   "metadata": {},
   "outputs": [
    {
     "name": "stdout",
     "output_type": "stream",
     "text": [
      "[[ 1550     1     0 ...     0     0     0]\n",
      " [    0     1     0 ...     0     0     0]\n",
      " [    0     0     2 ...     0     0     0]\n",
      " ...\n",
      " [    0     0     0 ... 14528   181    13]\n",
      " [    0     0     0 ...   484  4037   116]\n",
      " [    0     0     0 ...    90   242   677]]\n"
     ]
    }
   ],
   "source": [
    "cf_matrix = confusion_matrix(y_test, prediction)\n",
    "print(cf_matrix)"
   ]
  },
  {
   "cell_type": "markdown",
   "id": "ba4fc44e",
   "metadata": {},
   "source": [
    "In the confusion matrix we can see that there are some false positives and false negative. <br> The number of thoes is not that high and that is reflected in the model score."
   ]
  },
  {
   "cell_type": "code",
   "execution_count": 40,
   "id": "4e727eaf",
   "metadata": {
    "scrolled": true
   },
   "outputs": [
    {
     "name": "stderr",
     "output_type": "stream",
     "text": [
      "C:\\Users\\miade\\anaconda3\\lib\\site-packages\\sklearn\\metrics\\_classification.py:1248: UndefinedMetricWarning: Precision and F-score are ill-defined and being set to 0.0 in labels with no predicted samples. Use `zero_division` parameter to control this behavior.\n",
      "  _warn_prf(average, modifier, msg_start, len(result))\n"
     ]
    },
    {
     "name": "stdout",
     "output_type": "stream",
     "text": [
      "              precision    recall  f1-score   support\n",
      "\n",
      "           0       0.75      0.71      0.73      2194\n",
      "           1       0.20      0.08      0.11        13\n",
      "           2       0.67      1.00      0.80         2\n",
      "           3       0.48      0.41      0.44        34\n",
      "           4       0.60      0.57      0.59      2546\n",
      "           5       0.77      0.61      0.68        90\n",
      "           6       0.84      0.86      0.85      6540\n",
      "           7       0.59      0.52      0.56      2449\n",
      "           8       0.59      0.57      0.58      2963\n",
      "           9       0.90      0.93      0.91     20151\n",
      "          10       0.53      0.51      0.52      3250\n",
      "          11       0.64      0.60      0.62      6846\n",
      "          12       0.90      0.96      0.93        55\n",
      "          13       0.31      0.28      0.30       348\n",
      "          14       0.00      0.00      0.00         1\n",
      "          15       0.85      0.88      0.87     22073\n",
      "          16       0.00      0.00      0.00         2\n",
      "          17       0.44      0.33      0.38        45\n",
      "          19       0.55      0.54      0.54      5846\n",
      "          20       0.79      0.81      0.80     10203\n",
      "          21       0.44      0.35      0.39       172\n",
      "          22       0.87      0.84      0.85      7157\n",
      "          23       0.75      0.69      0.72      2545\n",
      "          24       0.00      0.00      0.00        16\n",
      "          25       0.51      0.42      0.46       434\n",
      "          26       0.72      0.69      0.71      8022\n",
      "          27       0.79      0.82      0.81      5717\n",
      "          28       0.74      0.74      0.74        19\n",
      "          29       0.44      0.46      0.45       866\n",
      "          30       0.66      0.72      0.69      4124\n",
      "          31       0.42      0.38      0.40      1448\n",
      "          32       0.00      0.00      0.00         6\n",
      "          33       0.57      0.57      0.57       213\n",
      "          34       0.00      0.00      0.00         3\n",
      "          35       0.80      0.76      0.78      2677\n",
      "          36       0.83      0.56      0.67         9\n",
      "          37       0.87      0.87      0.87      5262\n",
      "          38       0.14      0.13      0.13       206\n",
      "          39       0.59      0.45      0.51       912\n",
      "          40       0.34      0.25      0.29       822\n",
      "          41       0.90      0.93      0.91     13248\n",
      "          42       0.25      0.20      0.22        30\n",
      "          43       0.67      0.46      0.55        13\n",
      "          44       0.36      0.31      0.33       361\n",
      "          45       0.75      0.76      0.75       840\n",
      "          46       0.89      0.88      0.88      3926\n",
      "          47       0.75      0.57      0.65        21\n",
      "          48       0.06      0.04      0.05        53\n",
      "          49       0.32      0.22      0.26       199\n",
      "          50       0.44      0.34      0.39       593\n",
      "          51       0.87      0.73      0.80       142\n",
      "          52       0.69      0.65      0.67      3295\n",
      "          53       0.04      0.03      0.03        73\n",
      "          54       0.70      0.55      0.61        42\n",
      "          55       0.88      0.93      0.91     15541\n",
      "          56       0.89      0.85      0.87      4724\n",
      "          57       0.84      0.67      0.75      1009\n",
      "\n",
      "    accuracy                           0.79    170391\n",
      "   macro avg       0.56      0.53      0.54    170391\n",
      "weighted avg       0.79      0.79      0.79    170391\n",
      "\n"
     ]
    },
    {
     "name": "stderr",
     "output_type": "stream",
     "text": [
      "C:\\Users\\miade\\anaconda3\\lib\\site-packages\\sklearn\\metrics\\_classification.py:1248: UndefinedMetricWarning: Precision and F-score are ill-defined and being set to 0.0 in labels with no predicted samples. Use `zero_division` parameter to control this behavior.\n",
      "  _warn_prf(average, modifier, msg_start, len(result))\n",
      "C:\\Users\\miade\\anaconda3\\lib\\site-packages\\sklearn\\metrics\\_classification.py:1248: UndefinedMetricWarning: Precision and F-score are ill-defined and being set to 0.0 in labels with no predicted samples. Use `zero_division` parameter to control this behavior.\n",
      "  _warn_prf(average, modifier, msg_start, len(result))\n"
     ]
    }
   ],
   "source": [
    "print(classification_report(y_test, prediction))"
   ]
  },
  {
   "cell_type": "markdown",
   "id": "40bcac32",
   "metadata": {},
   "source": [
    "The KNN Classifier works best on large noicy data and because we have data that are more compact and simmalar the result is not the best <br>\n",
    "The precision, recall and f1-score is all around 0.55, and we wanted something very close to 1, so another classifier might be better."
   ]
  },
  {
   "cell_type": "markdown",
   "id": "b60edc93",
   "metadata": {},
   "source": [
    "#### Bayes Classification <a class=\"anchor\" id=\"bc_class\"></a>"
   ]
  },
  {
   "cell_type": "code",
   "execution_count": 41,
   "id": "42fd18b3",
   "metadata": {},
   "outputs": [],
   "source": [
    "# Now we are integer encoding to make it easier to work with\n",
    "df_carList['City'] = pd.factorize(df_carList['City'])[0]\n",
    "df_carList['State'] = pd.factorize(df_carList['State'])[0]\n",
    "df_carList['Make'] = pd.factorize(df_carList['Make'])[0]\n",
    "df_carList['Model'] = pd.factorize(df_carList['Model'])[0]"
   ]
  },
  {
   "cell_type": "code",
   "execution_count": 42,
   "id": "f5fd8f74",
   "metadata": {},
   "outputs": [
    {
     "name": "stdout",
     "output_type": "stream",
     "text": [
      "[[ 8995  2014 35725     0     0     0]\n",
      " [10888  2013 19606     1     1     1]\n",
      " [ 8995  2013 48851     0     0     0]\n",
      " ...\n",
      " [55999  2016 28941  1019     2  2597]\n",
      " [60240  2017  3005   758     8  2683]\n",
      " [76995  2017  2502   930     1  2684]]\n",
      "[[ 0]\n",
      " [ 0]\n",
      " [ 0]\n",
      " ...\n",
      " [57]\n",
      " [57]\n",
      " [57]]\n"
     ]
    }
   ],
   "source": [
    "# X being all columns beside Make\n",
    "# Y being Make\n",
    "X = df_carList.loc[:, df_carList.columns != 'Make'].values\n",
    "print(X)\n",
    "y = df_carList.iloc[:,5:6].values\n",
    "print(y)"
   ]
  },
  {
   "cell_type": "code",
   "execution_count": 43,
   "id": "88e6e13d",
   "metadata": {},
   "outputs": [],
   "source": [
    "# We takes 20 procent of the data for test set which is randomly selected\n",
    "test_set_size = 0.2\n",
    "# Initial value for randomization\n",
    "seed = 7\n",
    "X_train, X_test, y_train, y_test = model_selection.train_test_split(X, y, test_size=test_set_size, random_state=seed)"
   ]
  },
  {
   "cell_type": "code",
   "execution_count": 44,
   "id": "44ac8153",
   "metadata": {},
   "outputs": [
    {
     "data": {
      "text/plain": [
       "GaussianNB()"
      ]
     },
     "execution_count": 44,
     "metadata": {},
     "output_type": "execute_result"
    }
   ],
   "source": [
    "# We instatiage the modeland fits it to the train data\n",
    "model = GaussianNB()\n",
    "y_train = np.ravel(y_train)\n",
    "model.fit(X_train, y_train)"
   ]
  },
  {
   "cell_type": "code",
   "execution_count": 45,
   "id": "e7e1fac5",
   "metadata": {},
   "outputs": [
    {
     "data": {
      "text/plain": [
       "0.9162925271874688"
      ]
     },
     "execution_count": 45,
     "metadata": {},
     "output_type": "execute_result"
    }
   ],
   "source": [
    "model.score(X_test, y_test)"
   ]
  },
  {
   "cell_type": "markdown",
   "id": "ee688afb",
   "metadata": {},
   "source": [
    "The accuracy score is much better the for the KNN classifier."
   ]
  },
  {
   "cell_type": "code",
   "execution_count": 46,
   "id": "e3d0afc8",
   "metadata": {},
   "outputs": [
    {
     "data": {
      "text/plain": [
       "array([16000,  2014, 35786,   139,    30,   821], dtype=int64)"
      ]
     },
     "execution_count": 46,
     "metadata": {},
     "output_type": "execute_result"
    }
   ],
   "source": [
    "X_test[0]"
   ]
  },
  {
   "cell_type": "code",
   "execution_count": 47,
   "id": "0337e0fc",
   "metadata": {},
   "outputs": [
    {
     "data": {
      "text/plain": [
       "array([15], dtype=int64)"
      ]
     },
     "execution_count": 47,
     "metadata": {},
     "output_type": "execute_result"
    }
   ],
   "source": [
    "# you can also pre predict some informaion and run it to see if the array is matching\n",
    "#This prediction is based on the first point in the dataframe and we expect it to return Acura\n",
    "prediction = model.predict([X_test[0]])\n",
    "prediction"
   ]
  },
  {
   "cell_type": "code",
   "execution_count": 48,
   "id": "3ed986f9",
   "metadata": {},
   "outputs": [
    {
     "data": {
      "text/plain": [
       "array([15], dtype=int64)"
      ]
     },
     "execution_count": 48,
     "metadata": {},
     "output_type": "execute_result"
    }
   ],
   "source": [
    "y_test[0]"
   ]
  },
  {
   "cell_type": "markdown",
   "id": "a99714ef",
   "metadata": {},
   "source": [
    "This is exactly the value we expected."
   ]
  },
  {
   "cell_type": "code",
   "execution_count": 49,
   "id": "244b236e",
   "metadata": {},
   "outputs": [
    {
     "data": {
      "text/plain": [
       "array([15, 26, 15, ..., 37, 55, 22], dtype=int64)"
      ]
     },
     "execution_count": 49,
     "metadata": {},
     "output_type": "execute_result"
    }
   ],
   "source": [
    "prediction = model.predict(X_test)\n",
    "prediction"
   ]
  },
  {
   "cell_type": "code",
   "execution_count": 50,
   "id": "bb238ce9",
   "metadata": {
    "scrolled": true
   },
   "outputs": [
    {
     "name": "stdout",
     "output_type": "stream",
     "text": [
      "[[ 2034     1     0 ...     0     0     0]\n",
      " [    0    10     0 ...     0     0     0]\n",
      " [    0     0     2 ...     0     0     0]\n",
      " ...\n",
      " [    0     0     0 ... 15122     0     0]\n",
      " [    0     0     0 ...   150  4284    47]\n",
      " [    0     0     0 ...     0   249   716]]\n"
     ]
    }
   ],
   "source": [
    "cf_matrix = confusion_matrix(y_test, prediction)\n",
    "print(cf_matrix)"
   ]
  },
  {
   "cell_type": "markdown",
   "id": "3777de9f",
   "metadata": {},
   "source": [
    "In the confusion matrix we can see that there are some false positives and false negative. <br> The number of thoes is not that high and it reflexs in the model score"
   ]
  },
  {
   "cell_type": "code",
   "execution_count": 51,
   "id": "524fc079",
   "metadata": {
    "scrolled": true
   },
   "outputs": [
    {
     "name": "stderr",
     "output_type": "stream",
     "text": [
      "C:\\Users\\miade\\anaconda3\\lib\\site-packages\\sklearn\\metrics\\_classification.py:1248: UndefinedMetricWarning: Recall and F-score are ill-defined and being set to 0.0 in labels with no true samples. Use `zero_division` parameter to control this behavior.\n",
      "  _warn_prf(average, modifier, msg_start, len(result))\n"
     ]
    },
    {
     "name": "stdout",
     "output_type": "stream",
     "text": [
      "              precision    recall  f1-score   support\n",
      "\n",
      "           0       0.98      0.93      0.95      2194\n",
      "           1       0.91      0.77      0.83        13\n",
      "           2       1.00      1.00      1.00         2\n",
      "           3       0.88      0.88      0.88        34\n",
      "           4       0.94      0.96      0.95      2546\n",
      "           5       0.74      0.78      0.76        90\n",
      "           6       1.00      0.99      0.99      6540\n",
      "           7       0.98      0.90      0.93      2449\n",
      "           8       0.92      0.84      0.88      2963\n",
      "           9       0.97      0.99      0.98     20151\n",
      "          10       0.99      0.95      0.97      3250\n",
      "          11       0.72      0.93      0.81      6846\n",
      "          12       0.87      1.00      0.93        55\n",
      "          13       1.00      0.86      0.92       348\n",
      "          14       1.00      1.00      1.00         1\n",
      "          15       1.00      0.97      0.98     22073\n",
      "          16       0.04      0.50      0.07         2\n",
      "          17       0.81      0.96      0.88        45\n",
      "          18       0.00      0.00      0.00         0\n",
      "          19       0.93      0.94      0.93      5846\n",
      "          20       0.98      0.93      0.95     10203\n",
      "          21       1.00      0.97      0.99       172\n",
      "          22       1.00      0.94      0.97      7157\n",
      "          23       0.95      0.83      0.89      2545\n",
      "          24       0.88      0.94      0.91        16\n",
      "          25       0.77      0.59      0.67       434\n",
      "          26       0.70      0.69      0.69      8022\n",
      "          27       0.99      0.95      0.97      5717\n",
      "          28       0.90      1.00      0.95        19\n",
      "          29       1.00      0.52      0.69       866\n",
      "          30       0.91      0.95      0.93      4124\n",
      "          31       0.62      0.01      0.02      1448\n",
      "          32       0.67      0.33      0.44         6\n",
      "          33       0.99      0.89      0.94       213\n",
      "          34       1.00      0.33      0.50         3\n",
      "          35       1.00      0.92      0.96      2677\n",
      "          36       1.00      1.00      1.00         9\n",
      "          37       0.83      0.91      0.87      5262\n",
      "          38       0.01      0.05      0.01       206\n",
      "          39       1.00      0.98      0.99       912\n",
      "          40       0.99      0.76      0.86       822\n",
      "          41       0.99      0.93      0.96     13248\n",
      "          42       0.88      1.00      0.94        30\n",
      "          43       0.00      0.00      0.00        13\n",
      "          44       0.02      0.10      0.04       361\n",
      "          45       0.97      0.80      0.87       840\n",
      "          46       0.84      0.95      0.89      3926\n",
      "          47       1.00      1.00      1.00        21\n",
      "          48       1.00      0.74      0.85        53\n",
      "          49       0.20      0.85      0.32       199\n",
      "          50       1.00      0.84      0.91       593\n",
      "          51       1.00      0.86      0.92       142\n",
      "          52       0.99      0.89      0.94      3295\n",
      "          53       0.00      0.00      0.00        73\n",
      "          54       0.89      0.98      0.93        42\n",
      "          55       0.98      0.97      0.98     15541\n",
      "          56       0.90      0.91      0.90      4724\n",
      "          57       0.94      0.71      0.81      1009\n",
      "\n",
      "    accuracy                           0.92    170391\n",
      "   macro avg       0.82      0.78      0.78    170391\n",
      "weighted avg       0.94      0.92      0.92    170391\n",
      "\n"
     ]
    },
    {
     "name": "stderr",
     "output_type": "stream",
     "text": [
      "C:\\Users\\miade\\anaconda3\\lib\\site-packages\\sklearn\\metrics\\_classification.py:1248: UndefinedMetricWarning: Recall and F-score are ill-defined and being set to 0.0 in labels with no true samples. Use `zero_division` parameter to control this behavior.\n",
      "  _warn_prf(average, modifier, msg_start, len(result))\n",
      "C:\\Users\\miade\\anaconda3\\lib\\site-packages\\sklearn\\metrics\\_classification.py:1248: UndefinedMetricWarning: Recall and F-score are ill-defined and being set to 0.0 in labels with no true samples. Use `zero_division` parameter to control this behavior.\n",
      "  _warn_prf(average, modifier, msg_start, len(result))\n"
     ]
    }
   ],
   "source": [
    "print(classification_report(y_test, prediction))"
   ]
  },
  {
   "cell_type": "markdown",
   "id": "08a899b3",
   "metadata": {},
   "source": [
    "The overall score is good, approximately 0.92, but Makes like Mercury and Pontiac brings the score down a bit, which perhaps can be some of the false positives and false negatives in the confusion matrix\n",
    "<br><br>\n",
    "The score is still better than the KNN scores, so we will save this model to future use."
   ]
  },
  {
   "cell_type": "code",
   "execution_count": 52,
   "id": "1895add5",
   "metadata": {},
   "outputs": [],
   "source": [
    "# Using pickle to save the model in GaussianNB_model.sav\n",
    "filename = 'GaussianNB_model.sav'\n",
    "pickle.dump(model, open(filename, 'wb'))"
   ]
  },
  {
   "cell_type": "code",
   "execution_count": 53,
   "id": "74669b92",
   "metadata": {},
   "outputs": [
    {
     "data": {
      "text/plain": [
       "0.9162925271874688"
      ]
     },
     "execution_count": 53,
     "metadata": {},
     "output_type": "execute_result"
    }
   ],
   "source": [
    "# To see if we saved the file correctly\n",
    "loaded_model = pickle.load(open(filename, 'rb'))\n",
    "result = loaded_model.score(X_test, y_test)\n",
    "result"
   ]
  },
  {
   "cell_type": "markdown",
   "id": "9a2a0bfc",
   "metadata": {},
   "source": [
    "### Neural Network <a class=\"anchor\" id=\"NN\"></a>"
   ]
  },
  {
   "cell_type": "markdown",
   "id": "1aa2b5d9",
   "metadata": {},
   "source": [
    "#### Building Enviroment <a class=\"anchor\" id=\"BE\"></a>"
   ]
  },
  {
   "cell_type": "code",
   "execution_count": 54,
   "id": "a43ecbac",
   "metadata": {},
   "outputs": [
    {
     "name": "stdout",
     "output_type": "stream",
     "text": [
      "[[ 8995  2014 35725     0     0     0]\n",
      " [10888  2013 19606     1     1     1]\n",
      " [ 8995  2013 48851     0     0     0]\n",
      " ...\n",
      " [55999  2016 28941  1019     2  2597]\n",
      " [60240  2017  3005   758     8  2683]\n",
      " [76995  2017  2502   930     1  2684]]\n",
      "[[ 0]\n",
      " [ 0]\n",
      " [ 0]\n",
      " ...\n",
      " [57]\n",
      " [57]\n",
      " [57]]\n"
     ]
    }
   ],
   "source": [
    "# X being all columns beside Make\n",
    "# Y being Make\n",
    "X = df_carList.loc[:, df_carList.columns != 'Make'].values\n",
    "print(X)\n",
    "y = df_carList.iloc[:,5:6].values\n",
    "print(y)"
   ]
  },
  {
   "cell_type": "code",
   "execution_count": 55,
   "id": "33908a3f",
   "metadata": {},
   "outputs": [],
   "source": [
    "# The labels are the car Makes\n",
    "labels = df_carList['Make']"
   ]
  },
  {
   "cell_type": "code",
   "execution_count": 56,
   "id": "f8418e0f",
   "metadata": {},
   "outputs": [],
   "source": [
    "# The Features are the other columns in the dataframe\n",
    "features = df_carList.loc[:, df_carList.columns != 'Make'].values"
   ]
  },
  {
   "cell_type": "code",
   "execution_count": 57,
   "id": "b17e9b9e",
   "metadata": {},
   "outputs": [],
   "source": [
    "# Setting X to the features because we use X later\n",
    "X=features"
   ]
  },
  {
   "cell_type": "code",
   "execution_count": 58,
   "id": "2cc84026",
   "metadata": {},
   "outputs": [],
   "source": [
    "#Normalizing the data with standard scaler\n",
    "sc = StandardScaler()\n",
    "X = sc.fit_transform(X)\n",
    "#X"
   ]
  },
  {
   "cell_type": "code",
   "execution_count": 59,
   "id": "bc3c512b",
   "metadata": {},
   "outputs": [
    {
     "data": {
      "text/plain": [
       "array([[1., 0., 0., ..., 0., 0., 0.],\n",
       "       [1., 0., 0., ..., 0., 0., 0.],\n",
       "       [1., 0., 0., ..., 0., 0., 0.],\n",
       "       ...,\n",
       "       [0., 0., 0., ..., 0., 0., 1.],\n",
       "       [0., 0., 0., ..., 0., 0., 1.],\n",
       "       [0., 0., 0., ..., 0., 0., 1.]])"
      ]
     },
     "execution_count": 59,
     "metadata": {},
     "output_type": "execute_result"
    }
   ],
   "source": [
    "# We use OneHotEncoding on y, and the new array shape will be (n, number of classes), \n",
    "# where n is the number of samples in our dataset.\n",
    "ohe = OneHotEncoder()\n",
    "y = ohe.fit_transform(y).toarray()\n",
    "y"
   ]
  },
  {
   "cell_type": "code",
   "execution_count": 60,
   "id": "457bcaa1",
   "metadata": {},
   "outputs": [
    {
     "data": {
      "text/plain": [
       "(851954, 58)"
      ]
     },
     "execution_count": 60,
     "metadata": {},
     "output_type": "execute_result"
    }
   ],
   "source": [
    "# There are 851954 number of samples and 58 classes, which is used later\n",
    "y.shape"
   ]
  },
  {
   "cell_type": "code",
   "execution_count": 61,
   "id": "b6e03abc",
   "metadata": {},
   "outputs": [],
   "source": [
    "# Splitting the dataset with a random state at 42. Test data will be 20 % of total data.\n",
    "X_train,X_test,y_train,y_test = train_test_split(X,y,test_size = 0.2, random_state=42)"
   ]
  },
  {
   "cell_type": "markdown",
   "id": "862a4741",
   "metadata": {},
   "source": [
    "#### Building our Neural Network <a class=\"anchor\" id=\"BNN\"></a>\n",
    "We instantiate our model by Keras' Sequential(), which means we sequentially creates the model where we add the output of each layer as input to the next layer.\n",
    "<br><br>\n",
    "Our input is of 6 values, and our output is of 58 values. \n",
    "<br><br>\n",
    "In our neural network, we are using six hidden layers of 500, 250, 100, 50 and 250 dimension. The layers have the activation function called relu, which works by returning 0 in the result is negative and 1 if the result is positive. \n",
    "<br><br>\n",
    "We also have a layer with the dimension 175 containing a kernel_regularizer which is used to apply the penalty L1 (Least Absolute Deviations) on the layer's kernel. We chose L1 because we know our dataset contains a lot of outliers. \n",
    "<br><br>\n",
    "The output layer contains the activation function softmax, which calculates the probabilities distribution of an event over a number of different events. We use this becuase the results can be multiple classes; we have 58 different classes.\n",
    "<br><br>\n",
    "The last thing we add is a Dropout layer which help combat overfitting "
   ]
  },
  {
   "cell_type": "code",
   "execution_count": 62,
   "id": "b118cef3",
   "metadata": {},
   "outputs": [],
   "source": [
    "# Neural network\n",
    "\n",
    "inputVal = 6\n",
    "outputVal = 58\n",
    "\n",
    "model = Sequential()\n",
    "model.add(Dense(250, input_dim=inputVal, activation='relu'))\n",
    "model.add(Dense(175, activation='relu'))\n",
    "model.add(Dense(50, input_dim=inputVal, activation='relu'))\n",
    "model.add(Dense(25, activation='relu'))\n",
    "model.add(Dense(175, input_dim=inputVal, activation='relu'))\n",
    "model.add(Dense(90, kernel_regularizer='l1'))\n",
    "model.add(Dense(outputVal, activation='softmax'))\n",
    "model.add(Dropout(.2, input_shape=(2,)))"
   ]
  },
  {
   "cell_type": "code",
   "execution_count": 63,
   "id": "0e1e08c0",
   "metadata": {},
   "outputs": [],
   "source": [
    "# Now we compile the model, we chose the L1 as loss, and the adam (Adaptive Moment Estimation) optimizer.\n",
    "model.compile(loss='mean_absolute_error', optimizer='adam', metrics=['accuracy'])"
   ]
  },
  {
   "cell_type": "markdown",
   "id": "f3142370",
   "metadata": {},
   "source": [
    "#### Training the model <a class=\"anchor\" id=\"training_NN\"></a>"
   ]
  },
  {
   "cell_type": "code",
   "execution_count": 64,
   "id": "3c7ac60a",
   "metadata": {},
   "outputs": [
    {
     "name": "stdout",
     "output_type": "stream",
     "text": [
      "Epoch 1/3\n",
      "10650/10650 [==============================] - 49s 4ms/step - loss: 0.0969 - accuracy: 0.3828\n",
      "Epoch 2/3\n",
      "10650/10650 [==============================] - 47s 4ms/step - loss: 0.0397 - accuracy: 0.4102\n",
      "Epoch 3/3\n",
      "10650/10650 [==============================] - 48s 4ms/step - loss: 0.0400 - accuracy: 0.4094\n"
     ]
    }
   ],
   "source": [
    "# We are fitting the model with 3 epochs and a batch size of 64\n",
    "history = model.fit(X_train, y_train, epochs=3, batch_size=64)"
   ]
  },
  {
   "cell_type": "code",
   "execution_count": 65,
   "id": "a17dbb9d",
   "metadata": {},
   "outputs": [
    {
     "name": "stdout",
     "output_type": "stream",
     "text": [
      "5325/5325 [==============================] - 12s 2ms/step\n"
     ]
    }
   ],
   "source": [
    "# We can predict on X_test using model.predict(). \n",
    "# It takes the test data as input and returns the prediction outputs as softmax.\n",
    "\n",
    "y_pred = model.predict(X_test)\n",
    "#Converting predictions to label\n",
    "pred = list()\n",
    "for i in range(len(y_pred)):\n",
    "    pred.append(np.argmax(y_pred[i]))\n",
    "\n",
    "#Converting one hot encoded test label to label\n",
    "test = list()\n",
    "for i in range(len(y_test)):\n",
    "    test.append(np.argmax(y_test[i]))"
   ]
  },
  {
   "cell_type": "code",
   "execution_count": 66,
   "id": "2fe65a1f",
   "metadata": {},
   "outputs": [
    {
     "name": "stdout",
     "output_type": "stream",
     "text": [
      "Accuracy is: 29.311407292638698\n"
     ]
    }
   ],
   "source": [
    "# Now we calculate the accuracy score for the predicted and for the test data:\n",
    "a = accuracy_score(pred,test)\n",
    "print('Accuracy is:', a*100)"
   ]
  },
  {
   "attachments": {
    "image.png": {
     "image/png": "[encoded data removed]"
    }
   },
   "cell_type": "markdown",
   "id": "4eda85e4",
   "metadata": {},
   "source": [
    "The score canges every time we run this and it is not a good score neither way. But when we last ran this the score was this: ![image.png](attachment:image.png)"
   ]
  },
  {
   "cell_type": "markdown",
   "id": "bf2cc51b",
   "metadata": {},
   "source": [
    "We can use test data as validation data and can check the accuracies after every epoch. This will give us an insight into overfitting at the time of training only and we can take steps before the completion of all epochs. We can do this by changing fit function as:"
   ]
  },
  {
   "cell_type": "code",
   "execution_count": 67,
   "id": "0861694d",
   "metadata": {},
   "outputs": [
    {
     "name": "stdout",
     "output_type": "stream",
     "text": [
      "Epoch 1/3\n",
      "10650/10650 [==============================] - 54s 5ms/step - loss: 0.0417 - accuracy: 0.3904 - val_loss: 0.0361 - val_accuracy: 0.4905\n",
      "Epoch 2/3\n",
      "10650/10650 [==============================] - 54s 5ms/step - loss: 0.0472 - accuracy: 0.2363 - val_loss: 0.0611 - val_accuracy: 0.1714\n",
      "Epoch 3/3\n",
      "10650/10650 [==============================] - 57s 5ms/step - loss: 0.0491 - accuracy: 0.2180 - val_loss: 0.0454 - val_accuracy: 0.3214\n"
     ]
    }
   ],
   "source": [
    "# Now we change the fit function so that we can see if there is any overfitting at the time of training only. \n",
    "# We do this by validating with the test data.\n",
    "history = model.fit(X_train, y_train,validation_data = (X_test,y_test), epochs=3, batch_size=64)"
   ]
  },
  {
   "cell_type": "code",
   "execution_count": 68,
   "id": "e17c5fbb",
   "metadata": {},
   "outputs": [
    {
     "data": {
      "image/png": "[encoded data removed]",
      "text/plain": [
       "<Figure size 432x288 with 1 Axes>"
      ]
     },
     "metadata": {
      "needs_background": "light"
     },
     "output_type": "display_data"
    }
   ],
   "source": [
    "# This shows the accuracies for the test and training data for each epochs\n",
    "plt.plot(history.history['accuracy'])\n",
    "plt.plot(history.history['val_accuracy'])\n",
    "plt.title('Model accuracy')\n",
    "plt.ylabel('Accuracy')\n",
    "plt.xlabel('Epoch')\n",
    "plt.legend(['Train', 'Test'], loc='upper left')\n",
    "plt.show()"
   ]
  },
  {
   "attachments": {
    "image.png": {
     "image/png": "[encoded data removed]"
    }
   },
   "cell_type": "markdown",
   "id": "ceeffa75",
   "metadata": {},
   "source": [
    "From the Model accuracy graph we can see that the accuracy drops in the middel at 1 for the test data. The graph changes every time we run this, but at the time we describe it her, the graph looks like this: ![image.png](attachment:image.png)"
   ]
  },
  {
   "cell_type": "code",
   "execution_count": 69,
   "id": "92e956dd",
   "metadata": {},
   "outputs": [
    {
     "data": {
      "image/png": "[encoded data removed]",
      "text/plain": [
       "<Figure size 432x288 with 1 Axes>"
      ]
     },
     "metadata": {
      "needs_background": "light"
     },
     "output_type": "display_data"
    }
   ],
   "source": [
    "plt.plot(history.history['loss']) \n",
    "plt.plot(history.history['val_loss']) \n",
    "plt.title('Model loss') \n",
    "plt.ylabel('Loss') \n",
    "plt.xlabel('Epoch') \n",
    "plt.legend(['Train', 'Test'], loc='upper left') \n",
    "plt.show()"
   ]
  },
  {
   "attachments": {
    "image.png": {
     "image/png": "[encoded data removed]"
    }
   },
   "cell_type": "markdown",
   "id": "6b9bd181",
   "metadata": {},
   "source": [
    "From the Model loss graph we can see that the test data peeks at 1:\n",
    "![image.png](attachment:image.png)"
   ]
  },
  {
   "cell_type": "markdown",
   "id": "c8771a43",
   "metadata": {},
   "source": [
    "Based on the results, our data might not be perfect for a neural network."
   ]
  }
 ],
 "metadata": {
  "kernelspec": {
   "display_name": "Python 3 (ipykernel)",
   "language": "python",
   "name": "python3"
  },
  "language_info": {
   "codemirror_mode": {
    "name": "ipython",
    "version": 3
   },
   "file_extension": ".py",
   "mimetype": "text/x-python",
   "name": "python",
   "nbconvert_exporter": "python",
   "pygments_lexer": "ipython3",
   "version": "3.9.7"
  }
 },
 "nbformat": 4,
 "nbformat_minor": 5
}
